{
 "cells": [
  {
   "cell_type": "markdown",
   "metadata": {},
   "source": [
    "___\n",
    "\n",
    "<a href='http://www.adejumoridwan.com'> <img src='../ridwan.png' /></a>\n",
    "___"
   ]
  },
  {
   "cell_type": "markdown",
   "metadata": {},
   "source": [
    "# NumPy \n",
    "\n",
    "NumPy (or Numpy) is a Linear Algebra Library for Python, the reason it is so important for Data Science with Python is that almost all of the libraries in the PyData Ecosystem rely on NumPy as one of their main building blocks.\n",
    "\n",
    "Numpy is also incredibly fast, as it has bindings to C libraries. For more info on why you would want to use Arrays instead of lists, check out this great [StackOverflow post](http://stackoverflow.com/questions/993984/why-numpy-instead-of-python-lists).\n",
    "\n",
    "We will only learn the basics of NumPy, to get started we need to install it!"
   ]
  },
  {
   "cell_type": "markdown",
   "metadata": {},
   "source": [
    "## Installation Instructions\n",
    "\n",
    "**It is highly recommended you install Python using the Anaconda distribution to make sure all underlying dependencies (such as Linear Algebra libraries) all sync up with the use of a conda install. If you have Anaconda, install NumPy by going to your terminal or command prompt and typing:**\n",
    "    \n",
    "    conda install numpy\n",
    "    \n",
    "**If you do not have Anaconda and can not install it, please refer to [Numpy's official documentation on various installation instructions.](http://docs.scipy.org/doc/numpy-1.10.1/user/install.html)**"
   ]
  },
  {
   "cell_type": "markdown",
   "metadata": {},
   "source": [
    "## Using NumPy\n",
    "\n",
    "Once you've installed NumPy you can import it as a library:"
   ]
  },
  {
   "cell_type": "code",
   "execution_count": 3,
   "metadata": {},
   "outputs": [],
   "source": [
    "import numpy as np"
   ]
  },
  {
   "cell_type": "markdown",
   "metadata": {},
   "source": [
    "Numpy has many built-in functions and capabilities. We won't cover them all but instead we will focus on some of the most important aspects of Numpy: vectors,arrays,matrices, and number generation. Let's start by discussing arrays.\n",
    "\n",
    "# Numpy Arrays\n",
    "\n",
    "NumPy arrays are the main way we will use Numpy throughout the course. Numpy arrays essentially come in two flavors: vectors and matrices. Vectors are strictly 1-d arrays and matrices are 2-d (but you should note a matrix can still have only one row or one column).\n",
    "\n",
    "Let's begin our introduction by exploring how to create NumPy arrays.\n",
    "\n",
    "\n",
    "## Creating NumPy Arrays\n",
    "\n",
    "### From a Python List\n",
    "\n",
    "We can create an array by directly converting a list or list of lists:"
   ]
  },
  {
   "cell_type": "code",
   "execution_count": 4,
   "metadata": {},
   "outputs": [
    {
     "data": {
      "text/plain": [
       "[1, 2, 3]"
      ]
     },
     "execution_count": 4,
     "metadata": {},
     "output_type": "execute_result"
    }
   ],
   "source": [
    "my_list = [1,2,3]\n",
    "my_list"
   ]
  },
  {
   "cell_type": "code",
   "execution_count": 5,
   "metadata": {},
   "outputs": [
    {
     "data": {
      "text/plain": [
       "array([1, 2, 3])"
      ]
     },
     "execution_count": 5,
     "metadata": {},
     "output_type": "execute_result"
    }
   ],
   "source": [
    "np.array(my_list)"
   ]
  },
  {
   "cell_type": "code",
   "execution_count": 6,
   "metadata": {},
   "outputs": [
    {
     "data": {
      "text/plain": [
       "[[1, 2, 3], [4, 5, 6], [7, 8, 9]]"
      ]
     },
     "execution_count": 6,
     "metadata": {},
     "output_type": "execute_result"
    }
   ],
   "source": [
    "my_matrix = [[1,2,3],[4,5,6],[7,8,9]]\n",
    "my_matrix"
   ]
  },
  {
   "cell_type": "code",
   "execution_count": 7,
   "metadata": {},
   "outputs": [
    {
     "data": {
      "text/plain": [
       "array([[1, 2, 3],\n",
       "       [4, 5, 6],\n",
       "       [7, 8, 9]])"
      ]
     },
     "execution_count": 7,
     "metadata": {},
     "output_type": "execute_result"
    }
   ],
   "source": [
    "np.array(my_matrix)"
   ]
  },
  {
   "cell_type": "markdown",
   "metadata": {},
   "source": [
    "## Built-in Methods\n",
    "\n",
    "There are lots of built-in ways to generate Arrays"
   ]
  },
  {
   "cell_type": "markdown",
   "metadata": {},
   "source": [
    "### arange\n",
    "\n",
    "Return evenly spaced values within a given interval."
   ]
  },
  {
   "cell_type": "code",
   "execution_count": 8,
   "metadata": {},
   "outputs": [
    {
     "data": {
      "text/plain": [
       "array([0, 1, 2, 3, 4, 5, 6, 7, 8, 9])"
      ]
     },
     "execution_count": 8,
     "metadata": {},
     "output_type": "execute_result"
    }
   ],
   "source": [
    "np.arange(0,10)\n"
   ]
  },
  {
   "cell_type": "code",
   "execution_count": 9,
   "metadata": {},
   "outputs": [
    {
     "data": {
      "text/plain": [
       "array([ 0,  2,  4,  6,  8, 10])"
      ]
     },
     "execution_count": 9,
     "metadata": {},
     "output_type": "execute_result"
    }
   ],
   "source": [
    "np.arange(0,11,2)"
   ]
  },
  {
   "cell_type": "code",
   "execution_count": 10,
   "metadata": {},
   "outputs": [],
   "source": [
    "?np.arange"
   ]
  },
  {
   "cell_type": "markdown",
   "metadata": {},
   "source": [
    "### zeros and ones\n",
    "\n",
    "Generate arrays of zeros or ones"
   ]
  },
  {
   "cell_type": "code",
   "execution_count": 11,
   "metadata": {},
   "outputs": [
    {
     "data": {
      "text/plain": [
       "array([0., 0., 0.])"
      ]
     },
     "execution_count": 11,
     "metadata": {},
     "output_type": "execute_result"
    }
   ],
   "source": [
    "np.zeros(3)"
   ]
  },
  {
   "cell_type": "code",
   "execution_count": 12,
   "metadata": {},
   "outputs": [
    {
     "data": {
      "text/plain": [
       "array([[0., 0., 0., 0., 0.],\n",
       "       [0., 0., 0., 0., 0.],\n",
       "       [0., 0., 0., 0., 0.],\n",
       "       [0., 0., 0., 0., 0.],\n",
       "       [0., 0., 0., 0., 0.]])"
      ]
     },
     "execution_count": 12,
     "metadata": {},
     "output_type": "execute_result"
    }
   ],
   "source": [
    "np.zeros((5,5))"
   ]
  },
  {
   "cell_type": "code",
   "execution_count": 13,
   "metadata": {},
   "outputs": [
    {
     "data": {
      "text/plain": [
       "array([1., 1., 1.])"
      ]
     },
     "execution_count": 13,
     "metadata": {},
     "output_type": "execute_result"
    }
   ],
   "source": [
    "np.ones(3)"
   ]
  },
  {
   "cell_type": "code",
   "execution_count": 14,
   "metadata": {},
   "outputs": [
    {
     "data": {
      "text/plain": [
       "array([[1., 1., 1.],\n",
       "       [1., 1., 1.],\n",
       "       [1., 1., 1.]])"
      ]
     },
     "execution_count": 14,
     "metadata": {},
     "output_type": "execute_result"
    }
   ],
   "source": [
    "np.ones((3,3))"
   ]
  },
  {
   "cell_type": "markdown",
   "metadata": {},
   "source": [
    "### linspace\n",
    "Return evenly spaced numbers over a specified interval."
   ]
  },
  {
   "cell_type": "code",
   "execution_count": 15,
   "metadata": {},
   "outputs": [
    {
     "data": {
      "text/plain": [
       "array([ 0.,  5., 10.])"
      ]
     },
     "execution_count": 15,
     "metadata": {},
     "output_type": "execute_result"
    }
   ],
   "source": [
    "np.linspace(0,10,3)"
   ]
  },
  {
   "cell_type": "code",
   "execution_count": 16,
   "metadata": {},
   "outputs": [
    {
     "data": {
      "text/plain": [
       "array([ 0.        ,  0.01964637,  0.03929273,  0.0589391 ,  0.07858546,\n",
       "        0.09823183,  0.11787819,  0.13752456,  0.15717092,  0.17681729,\n",
       "        0.19646365,  0.21611002,  0.23575639,  0.25540275,  0.27504912,\n",
       "        0.29469548,  0.31434185,  0.33398821,  0.35363458,  0.37328094,\n",
       "        0.39292731,  0.41257367,  0.43222004,  0.4518664 ,  0.47151277,\n",
       "        0.49115914,  0.5108055 ,  0.53045187,  0.55009823,  0.5697446 ,\n",
       "        0.58939096,  0.60903733,  0.62868369,  0.64833006,  0.66797642,\n",
       "        0.68762279,  0.70726916,  0.72691552,  0.74656189,  0.76620825,\n",
       "        0.78585462,  0.80550098,  0.82514735,  0.84479371,  0.86444008,\n",
       "        0.88408644,  0.90373281,  0.92337917,  0.94302554,  0.96267191,\n",
       "        0.98231827,  1.00196464,  1.021611  ,  1.04125737,  1.06090373,\n",
       "        1.0805501 ,  1.10019646,  1.11984283,  1.13948919,  1.15913556,\n",
       "        1.17878193,  1.19842829,  1.21807466,  1.23772102,  1.25736739,\n",
       "        1.27701375,  1.29666012,  1.31630648,  1.33595285,  1.35559921,\n",
       "        1.37524558,  1.39489194,  1.41453831,  1.43418468,  1.45383104,\n",
       "        1.47347741,  1.49312377,  1.51277014,  1.5324165 ,  1.55206287,\n",
       "        1.57170923,  1.5913556 ,  1.61100196,  1.63064833,  1.6502947 ,\n",
       "        1.66994106,  1.68958743,  1.70923379,  1.72888016,  1.74852652,\n",
       "        1.76817289,  1.78781925,  1.80746562,  1.82711198,  1.84675835,\n",
       "        1.86640472,  1.88605108,  1.90569745,  1.92534381,  1.94499018,\n",
       "        1.96463654,  1.98428291,  2.00392927,  2.02357564,  2.043222  ,\n",
       "        2.06286837,  2.08251473,  2.1021611 ,  2.12180747,  2.14145383,\n",
       "        2.1611002 ,  2.18074656,  2.20039293,  2.22003929,  2.23968566,\n",
       "        2.25933202,  2.27897839,  2.29862475,  2.31827112,  2.33791749,\n",
       "        2.35756385,  2.37721022,  2.39685658,  2.41650295,  2.43614931,\n",
       "        2.45579568,  2.47544204,  2.49508841,  2.51473477,  2.53438114,\n",
       "        2.5540275 ,  2.57367387,  2.59332024,  2.6129666 ,  2.63261297,\n",
       "        2.65225933,  2.6719057 ,  2.69155206,  2.71119843,  2.73084479,\n",
       "        2.75049116,  2.77013752,  2.78978389,  2.80943026,  2.82907662,\n",
       "        2.84872299,  2.86836935,  2.88801572,  2.90766208,  2.92730845,\n",
       "        2.94695481,  2.96660118,  2.98624754,  3.00589391,  3.02554028,\n",
       "        3.04518664,  3.06483301,  3.08447937,  3.10412574,  3.1237721 ,\n",
       "        3.14341847,  3.16306483,  3.1827112 ,  3.20235756,  3.22200393,\n",
       "        3.24165029,  3.26129666,  3.28094303,  3.30058939,  3.32023576,\n",
       "        3.33988212,  3.35952849,  3.37917485,  3.39882122,  3.41846758,\n",
       "        3.43811395,  3.45776031,  3.47740668,  3.49705305,  3.51669941,\n",
       "        3.53634578,  3.55599214,  3.57563851,  3.59528487,  3.61493124,\n",
       "        3.6345776 ,  3.65422397,  3.67387033,  3.6935167 ,  3.71316306,\n",
       "        3.73280943,  3.7524558 ,  3.77210216,  3.79174853,  3.81139489,\n",
       "        3.83104126,  3.85068762,  3.87033399,  3.88998035,  3.90962672,\n",
       "        3.92927308,  3.94891945,  3.96856582,  3.98821218,  4.00785855,\n",
       "        4.02750491,  4.04715128,  4.06679764,  4.08644401,  4.10609037,\n",
       "        4.12573674,  4.1453831 ,  4.16502947,  4.18467583,  4.2043222 ,\n",
       "        4.22396857,  4.24361493,  4.2632613 ,  4.28290766,  4.30255403,\n",
       "        4.32220039,  4.34184676,  4.36149312,  4.38113949,  4.40078585,\n",
       "        4.42043222,  4.44007859,  4.45972495,  4.47937132,  4.49901768,\n",
       "        4.51866405,  4.53831041,  4.55795678,  4.57760314,  4.59724951,\n",
       "        4.61689587,  4.63654224,  4.65618861,  4.67583497,  4.69548134,\n",
       "        4.7151277 ,  4.73477407,  4.75442043,  4.7740668 ,  4.79371316,\n",
       "        4.81335953,  4.83300589,  4.85265226,  4.87229862,  4.89194499,\n",
       "        4.91159136,  4.93123772,  4.95088409,  4.97053045,  4.99017682,\n",
       "        5.00982318,  5.02946955,  5.04911591,  5.06876228,  5.08840864,\n",
       "        5.10805501,  5.12770138,  5.14734774,  5.16699411,  5.18664047,\n",
       "        5.20628684,  5.2259332 ,  5.24557957,  5.26522593,  5.2848723 ,\n",
       "        5.30451866,  5.32416503,  5.34381139,  5.36345776,  5.38310413,\n",
       "        5.40275049,  5.42239686,  5.44204322,  5.46168959,  5.48133595,\n",
       "        5.50098232,  5.52062868,  5.54027505,  5.55992141,  5.57956778,\n",
       "        5.59921415,  5.61886051,  5.63850688,  5.65815324,  5.67779961,\n",
       "        5.69744597,  5.71709234,  5.7367387 ,  5.75638507,  5.77603143,\n",
       "        5.7956778 ,  5.81532417,  5.83497053,  5.8546169 ,  5.87426326,\n",
       "        5.89390963,  5.91355599,  5.93320236,  5.95284872,  5.97249509,\n",
       "        5.99214145,  6.01178782,  6.03143418,  6.05108055,  6.07072692,\n",
       "        6.09037328,  6.11001965,  6.12966601,  6.14931238,  6.16895874,\n",
       "        6.18860511,  6.20825147,  6.22789784,  6.2475442 ,  6.26719057,\n",
       "        6.28683694,  6.3064833 ,  6.32612967,  6.34577603,  6.3654224 ,\n",
       "        6.38506876,  6.40471513,  6.42436149,  6.44400786,  6.46365422,\n",
       "        6.48330059,  6.50294695,  6.52259332,  6.54223969,  6.56188605,\n",
       "        6.58153242,  6.60117878,  6.62082515,  6.64047151,  6.66011788,\n",
       "        6.67976424,  6.69941061,  6.71905697,  6.73870334,  6.75834971,\n",
       "        6.77799607,  6.79764244,  6.8172888 ,  6.83693517,  6.85658153,\n",
       "        6.8762279 ,  6.89587426,  6.91552063,  6.93516699,  6.95481336,\n",
       "        6.97445972,  6.99410609,  7.01375246,  7.03339882,  7.05304519,\n",
       "        7.07269155,  7.09233792,  7.11198428,  7.13163065,  7.15127701,\n",
       "        7.17092338,  7.19056974,  7.21021611,  7.22986248,  7.24950884,\n",
       "        7.26915521,  7.28880157,  7.30844794,  7.3280943 ,  7.34774067,\n",
       "        7.36738703,  7.3870334 ,  7.40667976,  7.42632613,  7.4459725 ,\n",
       "        7.46561886,  7.48526523,  7.50491159,  7.52455796,  7.54420432,\n",
       "        7.56385069,  7.58349705,  7.60314342,  7.62278978,  7.64243615,\n",
       "        7.66208251,  7.68172888,  7.70137525,  7.72102161,  7.74066798,\n",
       "        7.76031434,  7.77996071,  7.79960707,  7.81925344,  7.8388998 ,\n",
       "        7.85854617,  7.87819253,  7.8978389 ,  7.91748527,  7.93713163,\n",
       "        7.956778  ,  7.97642436,  7.99607073,  8.01571709,  8.03536346,\n",
       "        8.05500982,  8.07465619,  8.09430255,  8.11394892,  8.13359528,\n",
       "        8.15324165,  8.17288802,  8.19253438,  8.21218075,  8.23182711,\n",
       "        8.25147348,  8.27111984,  8.29076621,  8.31041257,  8.33005894,\n",
       "        8.3497053 ,  8.36935167,  8.38899804,  8.4086444 ,  8.42829077,\n",
       "        8.44793713,  8.4675835 ,  8.48722986,  8.50687623,  8.52652259,\n",
       "        8.54616896,  8.56581532,  8.58546169,  8.60510806,  8.62475442,\n",
       "        8.64440079,  8.66404715,  8.68369352,  8.70333988,  8.72298625,\n",
       "        8.74263261,  8.76227898,  8.78192534,  8.80157171,  8.82121807,\n",
       "        8.84086444,  8.86051081,  8.88015717,  8.89980354,  8.9194499 ,\n",
       "        8.93909627,  8.95874263,  8.978389  ,  8.99803536,  9.01768173,\n",
       "        9.03732809,  9.05697446,  9.07662083,  9.09626719,  9.11591356,\n",
       "        9.13555992,  9.15520629,  9.17485265,  9.19449902,  9.21414538,\n",
       "        9.23379175,  9.25343811,  9.27308448,  9.29273084,  9.31237721,\n",
       "        9.33202358,  9.35166994,  9.37131631,  9.39096267,  9.41060904,\n",
       "        9.4302554 ,  9.44990177,  9.46954813,  9.4891945 ,  9.50884086,\n",
       "        9.52848723,  9.5481336 ,  9.56777996,  9.58742633,  9.60707269,\n",
       "        9.62671906,  9.64636542,  9.66601179,  9.68565815,  9.70530452,\n",
       "        9.72495088,  9.74459725,  9.76424361,  9.78388998,  9.80353635,\n",
       "        9.82318271,  9.84282908,  9.86247544,  9.88212181,  9.90176817,\n",
       "        9.92141454,  9.9410609 ,  9.96070727,  9.98035363, 10.        ])"
      ]
     },
     "execution_count": 16,
     "metadata": {},
     "output_type": "execute_result"
    }
   ],
   "source": [
    "np.linspace(0,10,510)"
   ]
  },
  {
   "cell_type": "markdown",
   "metadata": {},
   "source": [
    "## eye\n",
    "\n",
    "Creates an identity matrix"
   ]
  },
  {
   "cell_type": "code",
   "execution_count": 19,
   "metadata": {},
   "outputs": [
    {
     "data": {
      "text/plain": [
       "array([[1., 0., 0., 0.],\n",
       "       [0., 1., 0., 0.],\n",
       "       [0., 0., 1., 0.],\n",
       "       [0., 0., 0., 1.]])"
      ]
     },
     "execution_count": 19,
     "metadata": {},
     "output_type": "execute_result"
    }
   ],
   "source": [
    "np.eye(4)"
   ]
  },
  {
   "cell_type": "markdown",
   "metadata": {},
   "source": [
    "## Random \n",
    "\n",
    "Numpy also has lots of ways to create random number arrays:\n",
    "\n",
    "### rand\n",
    "Create an array of the given shape and populate it with\n",
    "random samples from a uniform distribution\n",
    "over ``[0, 1)``."
   ]
  },
  {
   "cell_type": "code",
   "execution_count": 25,
   "metadata": {},
   "outputs": [
    {
     "data": {
      "text/plain": [
       "array([0.91057596, 0.12848456])"
      ]
     },
     "execution_count": 25,
     "metadata": {},
     "output_type": "execute_result"
    }
   ],
   "source": [
    "np.random.rand(2)"
   ]
  },
  {
   "cell_type": "code",
   "execution_count": 26,
   "metadata": {},
   "outputs": [
    {
     "data": {
      "text/plain": [
       "array([[0.59311977, 0.91420132, 0.39990216, 0.21979475, 0.40621211],\n",
       "       [0.2696848 , 0.3019261 , 0.74298367, 0.21539795, 0.86883103],\n",
       "       [0.60658723, 0.51108683, 0.22246711, 0.52551843, 0.76787714],\n",
       "       [0.44948961, 0.05794986, 0.03792685, 0.94687608, 0.41511911],\n",
       "       [0.91505233, 0.71715213, 0.34574809, 0.60094449, 0.1511865 ]])"
      ]
     },
     "execution_count": 26,
     "metadata": {},
     "output_type": "execute_result"
    }
   ],
   "source": [
    "np.random.rand(5,5)"
   ]
  },
  {
   "cell_type": "code",
   "execution_count": 28,
   "metadata": {},
   "outputs": [],
   "source": [
    "?np.random.rand"
   ]
  },
  {
   "cell_type": "markdown",
   "metadata": {},
   "source": [
    "### randn\n",
    "\n",
    "Return a sample (or samples) from the \"standard normal\" distribution. Unlike rand which is uniform:"
   ]
  },
  {
   "cell_type": "code",
   "execution_count": 32,
   "metadata": {},
   "outputs": [
    {
     "data": {
      "text/plain": [
       "array([0.07631842, 0.88355977])"
      ]
     },
     "execution_count": 32,
     "metadata": {},
     "output_type": "execute_result"
    }
   ],
   "source": [
    "np.random.randn(2)"
   ]
  },
  {
   "cell_type": "code",
   "execution_count": 31,
   "metadata": {},
   "outputs": [
    {
     "data": {
      "text/plain": [
       "array([[-0.56795739, -0.17708571, -0.03365153,  0.43274687, -1.44178783],\n",
       "       [ 1.00088813,  0.4639384 ,  1.06164357, -0.31582322, -0.80954625],\n",
       "       [-0.96607603,  1.51299858, -2.02619842, -0.93837645, -0.91524791],\n",
       "       [ 0.66743175, -1.50722131,  1.49196952, -1.1510573 , -1.20049489],\n",
       "       [ 1.00934081,  0.87532895,  0.97446984, -1.3372457 ,  0.02017643]])"
      ]
     },
     "execution_count": 31,
     "metadata": {},
     "output_type": "execute_result"
    }
   ],
   "source": [
    "np.random.randn(5,5)"
   ]
  },
  {
   "cell_type": "markdown",
   "metadata": {},
   "source": [
    "### randint\n",
    "Return random integers from `low` (inclusive) to `high` (exclusive)."
   ]
  },
  {
   "cell_type": "code",
   "execution_count": 35,
   "metadata": {},
   "outputs": [
    {
     "data": {
      "text/plain": [
       "83"
      ]
     },
     "execution_count": 35,
     "metadata": {},
     "output_type": "execute_result"
    }
   ],
   "source": [
    "np.random.randint(1,100)"
   ]
  },
  {
   "cell_type": "code",
   "execution_count": 36,
   "metadata": {},
   "outputs": [
    {
     "data": {
      "text/plain": [
       "array([ 4, 66,  9, 32, 51, 69, 92, 39, 23, 28])"
      ]
     },
     "execution_count": 36,
     "metadata": {},
     "output_type": "execute_result"
    }
   ],
   "source": [
    "np.random.randint(1,100,10)"
   ]
  },
  {
   "cell_type": "markdown",
   "metadata": {},
   "source": [
    "## Array Attributes and Methods\n",
    "\n",
    "Let's discuss some useful attributes and methods or an array:"
   ]
  },
  {
   "cell_type": "code",
   "execution_count": 43,
   "metadata": {},
   "outputs": [],
   "source": [
    "arr = np.arange(25)\n",
    "ranarr = np.random.randint(0,50,10)"
   ]
  },
  {
   "cell_type": "code",
   "execution_count": 44,
   "metadata": {},
   "outputs": [
    {
     "data": {
      "text/plain": [
       "array([ 0,  1,  2,  3,  4,  5,  6,  7,  8,  9, 10, 11, 12, 13, 14, 15, 16,\n",
       "       17, 18, 19, 20, 21, 22, 23, 24])"
      ]
     },
     "execution_count": 44,
     "metadata": {},
     "output_type": "execute_result"
    }
   ],
   "source": [
    "arr"
   ]
  },
  {
   "cell_type": "code",
   "execution_count": 45,
   "metadata": {},
   "outputs": [
    {
     "data": {
      "text/plain": [
       "array([ 0, 26, 41, 28, 24,  4, 31, 37, 48, 23])"
      ]
     },
     "execution_count": 45,
     "metadata": {},
     "output_type": "execute_result"
    }
   ],
   "source": [
    "ranarr"
   ]
  },
  {
   "cell_type": "markdown",
   "metadata": {},
   "source": [
    "## Reshape\n",
    "Returns an array containing the same data with a new shape."
   ]
  },
  {
   "cell_type": "code",
   "execution_count": 46,
   "metadata": {},
   "outputs": [
    {
     "data": {
      "text/plain": [
       "array([[ 0,  1,  2,  3,  4],\n",
       "       [ 5,  6,  7,  8,  9],\n",
       "       [10, 11, 12, 13, 14],\n",
       "       [15, 16, 17, 18, 19],\n",
       "       [20, 21, 22, 23, 24]])"
      ]
     },
     "execution_count": 46,
     "metadata": {},
     "output_type": "execute_result"
    }
   ],
   "source": [
    "arr.reshape(5,5)"
   ]
  },
  {
   "cell_type": "markdown",
   "metadata": {},
   "source": [
    "### max,min,argmax,argmin\n",
    "\n",
    "These are useful methods for finding max or min values. Or to find their index locations using argmin or argmax"
   ]
  },
  {
   "cell_type": "code",
   "execution_count": 47,
   "metadata": {},
   "outputs": [
    {
     "data": {
      "text/plain": [
       "array([ 0, 26, 41, 28, 24,  4, 31, 37, 48, 23])"
      ]
     },
     "execution_count": 47,
     "metadata": {},
     "output_type": "execute_result"
    }
   ],
   "source": [
    "ranarr"
   ]
  },
  {
   "cell_type": "code",
   "execution_count": 48,
   "metadata": {},
   "outputs": [
    {
     "data": {
      "text/plain": [
       "48"
      ]
     },
     "execution_count": 48,
     "metadata": {},
     "output_type": "execute_result"
    }
   ],
   "source": [
    "ranarr.max()"
   ]
  },
  {
   "cell_type": "code",
   "execution_count": 49,
   "metadata": {},
   "outputs": [
    {
     "data": {
      "text/plain": [
       "8"
      ]
     },
     "execution_count": 49,
     "metadata": {},
     "output_type": "execute_result"
    }
   ],
   "source": [
    "ranarr.argmax()"
   ]
  },
  {
   "cell_type": "code",
   "execution_count": 50,
   "metadata": {},
   "outputs": [
    {
     "data": {
      "text/plain": [
       "0"
      ]
     },
     "execution_count": 50,
     "metadata": {},
     "output_type": "execute_result"
    }
   ],
   "source": [
    "ranarr.min()"
   ]
  },
  {
   "cell_type": "code",
   "execution_count": 51,
   "metadata": {},
   "outputs": [
    {
     "data": {
      "text/plain": [
       "0"
      ]
     },
     "execution_count": 51,
     "metadata": {},
     "output_type": "execute_result"
    }
   ],
   "source": [
    "ranarr.argmin()"
   ]
  },
  {
   "cell_type": "markdown",
   "metadata": {},
   "source": [
    "## Shape\n",
    "\n",
    "Shape is an attribute that arrays have (not a method):"
   ]
  },
  {
   "cell_type": "code",
   "execution_count": 52,
   "metadata": {},
   "outputs": [
    {
     "data": {
      "text/plain": [
       "(25,)"
      ]
     },
     "execution_count": 52,
     "metadata": {},
     "output_type": "execute_result"
    }
   ],
   "source": [
    "# Vector\n",
    "arr.shape"
   ]
  },
  {
   "cell_type": "code",
   "execution_count": null,
   "metadata": {},
   "outputs": [],
   "source": [
    "# Notice the two sets of brackets\n",
    "arr.reshape(1,25)"
   ]
  },
  {
   "cell_type": "code",
   "execution_count": null,
   "metadata": {},
   "outputs": [],
   "source": [
    "arr.reshape(1,25).shape"
   ]
  },
  {
   "cell_type": "code",
   "execution_count": null,
   "metadata": {},
   "outputs": [],
   "source": [
    "arr.reshape(25,1)"
   ]
  },
  {
   "cell_type": "code",
   "execution_count": null,
   "metadata": {},
   "outputs": [],
   "source": [
    "arr.reshape(25,1).shape"
   ]
  },
  {
   "cell_type": "markdown",
   "metadata": {},
   "source": [
    "### dtype\n",
    "\n",
    "You can also grab the data type of the object in the array:"
   ]
  },
  {
   "cell_type": "code",
   "execution_count": null,
   "metadata": {},
   "outputs": [],
   "source": [
    "arr.dtype"
   ]
  },
  {
   "cell_type": "markdown",
   "metadata": {},
   "source": [
    "# Great Job!"
   ]
  }
 ],
 "metadata": {
  "kernelspec": {
   "display_name": "Python 3 (ipykernel)",
   "language": "python",
   "name": "python3"
  },
  "language_info": {
   "codemirror_mode": {
    "name": "ipython",
    "version": 3
   },
   "file_extension": ".py",
   "mimetype": "text/x-python",
   "name": "python",
   "nbconvert_exporter": "python",
   "pygments_lexer": "ipython3",
   "version": "3.8.8"
  }
 },
 "nbformat": 4,
 "nbformat_minor": 1
}
